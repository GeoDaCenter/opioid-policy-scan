{
 "cells": [
  {
   "cell_type": "markdown",
   "metadata": {
    "id": "WbFT_hJQvdMP"
   },
   "source": [
    "# Access Metrics Made Easy: Nearest Destination and Access Count\n",
    "This notebook provides a simple workflow and toolkit to calculate find access metrics. Primarily, this notebook calculates the nearest destination and the number of locations within a given threshold. The basic workflow is as follows:\n",
    "1. Import data: Point data for destinations, origin geographies, and a transit cost matrix of pre-computed travel costs (eg. Minutes, Miles, etc.)\n",
    "2. Spatially join destinations to origins: Based on the geospatial location, this associates each destination with an origin geography. Given that the travel cost between each origin geography is known, we can easily calculate the distance between.\n",
    "3. Calculate metrics: For the nearest location, we'll simply sort the list of origins and destinations by travel time, then take the first entry. For the count within a given threshold, we can filter the list of origins and destinations by the travel time, and count the number of entries under a given threshold.\n",
    "\n",
    "---\n",
    "\n",
    "Getting start: Imports and a helper function for later. Here, we'll install the needed libraries (on the Colab remote machine) and import the libraries:"
   ]
  },
  {
   "cell_type": "code",
   "execution_count": 1,
   "metadata": {
    "colab": {
     "base_uri": "https://localhost:8080/"
    },
    "id": "R1NM03v8wt3g",
    "outputId": "47300e6d-8b8a-4a2e-d6b8-50272c78ea25"
   },
   "outputs": [
    {
     "name": "stdout",
     "output_type": "stream",
     "text": [
      "Requirement already satisfied: pandas in /Users/susan/opt/miniconda3/lib/python3.9/site-packages (1.3.4)\n",
      "Requirement already satisfied: geopandas in /Users/susan/opt/miniconda3/lib/python3.9/site-packages (0.10.2)\n",
      "Requirement already satisfied: access in /Users/susan/opt/miniconda3/lib/python3.9/site-packages (1.1.3)\n",
      "Requirement already satisfied: rtree in /Users/susan/opt/miniconda3/lib/python3.9/site-packages (0.9.7)\n",
      "Requirement already satisfied: pygeos in /Users/susan/opt/miniconda3/lib/python3.9/site-packages (0.12.0)\n",
      "Requirement already satisfied: pyarrow in /Users/susan/opt/miniconda3/lib/python3.9/site-packages (7.0.0)\n",
      "Requirement already satisfied: python-dateutil>=2.7.3 in /Users/susan/opt/miniconda3/lib/python3.9/site-packages (from pandas) (2.8.2)\n",
      "Requirement already satisfied: pytz>=2017.3 in /Users/susan/opt/miniconda3/lib/python3.9/site-packages (from pandas) (2021.3)\n",
      "Requirement already satisfied: numpy>=1.17.3 in /Users/susan/opt/miniconda3/lib/python3.9/site-packages (from pandas) (1.21.4)\n",
      "Requirement already satisfied: six>=1.5 in /Users/susan/opt/miniconda3/lib/python3.9/site-packages (from python-dateutil>=2.7.3->pandas) (1.16.0)\n",
      "Requirement already satisfied: shapely>=1.6 in /Users/susan/opt/miniconda3/lib/python3.9/site-packages (from geopandas) (1.8.0)\n",
      "Requirement already satisfied: pyproj>=2.2.0 in /Users/susan/opt/miniconda3/lib/python3.9/site-packages (from geopandas) (3.2.1)\n",
      "Requirement already satisfied: fiona>=1.8 in /Users/susan/opt/miniconda3/lib/python3.9/site-packages (from geopandas) (1.8.20)\n",
      "Requirement already satisfied: certifi in /Users/susan/opt/miniconda3/lib/python3.9/site-packages (from fiona>=1.8->geopandas) (2021.10.8)\n",
      "Requirement already satisfied: click>=4.0 in /Users/susan/opt/miniconda3/lib/python3.9/site-packages (from fiona>=1.8->geopandas) (8.0.3)\n",
      "Requirement already satisfied: click-plugins>=1.0 in /Users/susan/opt/miniconda3/lib/python3.9/site-packages (from fiona>=1.8->geopandas) (1.1.1)\n",
      "Requirement already satisfied: cligj>=0.5 in /Users/susan/opt/miniconda3/lib/python3.9/site-packages (from fiona>=1.8->geopandas) (0.7.2)\n",
      "Requirement already satisfied: setuptools in /Users/susan/opt/miniconda3/lib/python3.9/site-packages (from fiona>=1.8->geopandas) (52.0.0.post20210125)\n",
      "Requirement already satisfied: attrs>=17 in /Users/susan/opt/miniconda3/lib/python3.9/site-packages (from fiona>=1.8->geopandas) (21.2.0)\n",
      "Requirement already satisfied: munch in /Users/susan/opt/miniconda3/lib/python3.9/site-packages (from fiona>=1.8->geopandas) (2.5.0)\n"
     ]
    },
    {
     "name": "stderr",
     "output_type": "stream",
     "text": [
      "/Users/susan/opt/miniconda3/lib/python3.9/site-packages/geopandas/_compat.py:111: UserWarning: The Shapely GEOS version (3.9.1-CAPI-1.14.2) is incompatible with the GEOS version PyGEOS was compiled with (3.10.1-CAPI-1.16.0). Conversions between both will be slow.\n",
      "  warnings.warn(\n"
     ]
    }
   ],
   "source": [
    "!pip install pandas geopandas access rtree pygeos access pyarrow\n",
    "\n",
    "import pandas as pd\n",
    "import geopandas as gpd\n",
    "from shapely.geometry import Point\n",
    "# from access import Access, weights, Datasets\n",
    "\n",
    "def dfToGdf(df, lon, lat, crs='EPSG:4326'):\n",
    "  '''\n",
    "    df: pandas dataframe\n",
    "    lon: longitude column name\n",
    "    lat: latitude column name\n",
    "    crs: EPSG code or similar coordinate reference system\n",
    "  '''\n",
    "  return gpd.GeoDataFrame(\n",
    "    df.drop([lon, lat], axis=1),\n",
    "    crs=crs,\n",
    "    geometry=[Point(xy) for xy in zip(df[lon], df[lat])])"
   ]
  },
  {
   "cell_type": "markdown",
   "metadata": {
    "id": "Q-DnsT0uxE-q"
   },
   "source": [
    "### Public data:\n",
    "We've provided a set of public datasets to help get you started. Specifically, we have travel cost matrices for US Zip codes and US Census Tracts, with the travel cost as a value in minutes. The data here is in the Apache Parquet format, an efficient format for storing tabular data.\n",
    "\n",
    "We've also included some base geographies and population data (should you need it) and some sample destination data of Federally Qualified Health Clinics (FQHC's)."
   ]
  },
  {
   "cell_type": "code",
   "execution_count": 3,
   "metadata": {
    "id": "cmHary0c6CNn"
   },
   "outputs": [],
   "source": [
    "matrices = {\n",
    "    'tract': {\n",
    "        'car':'https://uchicago.box.com/shared/static/hkipez75z2p7zivtjdgsfzut4rhm6t6h.parquet',\n",
    "        'bike':'https://uchicago.box.com/shared/static/cvkq3dytr6rswzrxlgzeejmieq3n5aal.parquet',\n",
    "        'walk':'https://uchicago.box.com/shared/static/lrxeqclmpkflibg9c7sphmun4kny9xsb.parquet'\n",
    "    },\n",
    "    'zip': {\n",
    "        'car':'https://uchicago.box.com/shared/static/swggh8jxj59c7vpxzx1emt7jnd083rmh.parquet',\n",
    "        'bike':'https://uchicago.box.com/shared/static/7yzgf1gx3k3sacntjqber6l40m0d5aqw.parquet', \n",
    "        'walk':'https://uchicago.box.com/shared/static/b3vuqijqys24z146u78dsemn0wvu8i5m.parquet', \n",
    "    }\n",
    "}\n",
    "\n",
    "geographies = {\n",
    "    'tract': 'https://uchicago.box.com/shared/static/kfoid6fzlbpyfecmwpe9u16cl5n89ru0.zip',\n",
    "    'zip':'https://uchicago.box.com/shared/static/270ca6syxcg3dlvohhnt3ap92m4t7cxc.zip'\n",
    "}\n",
    "pop_data = {\n",
    "    'tract':'https://uchicago.box.com/shared/static/z6xm6tre935xbc06gg4ukzgyicro26cw.csv',\n",
    "    'zip': 'https://uchicago.box.com/shared/static/njjpskiuj7amcztrxjws2jfwqlv66t49.csv'\n",
    "}\n",
    "sample_point_data = {\n",
    "    'FQHC': 'https://uchicago.box.com/shared/static/uylcq23g5z8jhvmp7cnofr074j4hwj6e.csv',\n",
    "    'pharmacies': 'https://uchicago.box.com/shared/static/njjpskiuj7amcztrxjws2jfwqlv66t49.csv',\n",
    "    'opioid_treatment_facilities': 'https://raw.githubusercontent.com/GeoDaCenter/opioid-policy-scan/v1.0/data_raw/Opioid_Treatment_Directory_Geocoded.csv',\n",
    "    'moud_full': 'https://raw.githubusercontent.com/GeoDaCenter/opioid-policy-scan/fc3d94053dd1941a96a5945d73cc6f4845453484/data_final/moud/us-wide-moudsCleaned_geocoded.csv'\n",
    "}\n",
    "\n",
    "geoid_cols = {\n",
    "    \"tract\":\"GEOID\",\n",
    "    \"zip\": \"GEOID10\"\n",
    "}"
   ]
  },
  {
   "cell_type": "markdown",
   "metadata": {
    "id": "ujzxCeMwxfjv"
   },
   "source": [
    "Specify your preferred geographic unit and transit mode below. Or do your own thing!"
   ]
  },
  {
   "cell_type": "code",
   "execution_count": 5,
   "metadata": {
    "id": "1g2HXFZe7BEd"
   },
   "outputs": [],
   "source": [
    "GEOGRAPHIC_UNIT = 'tract' # 'tract' or 'zip'\n",
    "TRANSIT_MODE = 'bike' # 'car' or 'bike' or 'walk'\n",
    "\n",
    "TRANSIT_MATRIX = pd.read_parquet(matrices[GEOGRAPHIC_UNIT][TRANSIT_MODE])\n",
    "GEOGRAPHIES = gpd.read_file(geographies[GEOGRAPHIC_UNIT]).to_crs('EPSG:4326')\n",
    "GEOGRAPHIES['FIPS'] = GEOGRAPHIES[geoid_cols[GEOGRAPHIC_UNIT]].astype('int64')"
   ]
  },
  {
   "cell_type": "code",
   "execution_count": 6,
   "metadata": {
    "id": "QyQr9aF4ywaL"
   },
   "outputs": [],
   "source": [
    "# update your destination of interest here (i.e. point locations csv) with lat/long columns\n",
    "DESTINATIONS = dfToGdf(pd.read_csv(sample_point_data['moud_full']), 'xcoord', 'ycoord') "
   ]
  },
  {
   "cell_type": "code",
   "execution_count": 7,
   "metadata": {},
   "outputs": [],
   "source": [
    "# Update your destinations to a subset or category; i.e. category of MOUD\n",
    "#bup_providers = sample_point_data.query(`category == 'bup'`)\n",
    "DESTINATIONS = DESTINATIONS[DESTINATIONS.category == \"naltrexone/vivitrol\"]\n"
   ]
  },
  {
   "cell_type": "code",
   "execution_count": 10,
   "metadata": {
    "id": "UatSNZfLwURG"
   },
   "outputs": [],
   "source": [
    "# If you're trying to set up some gravity models or other access score calculations, you'll probably need population data. \n",
    "# POPULATION = pd.read_csv(pop_data[GEOGRAPHIC_UNIT])[['FIPS','Total Population']].iloc[1:]\n",
    "# POPULATION['GEOID'] = POPULATION['FIPS'].astype('int64')\n",
    "# GEOGRAPHIES = GEOGRAPHIES.merge(POPULATION[['FIPS','Total Population']], how=\"left\", on=\"FIPS\")"
   ]
  },
  {
   "cell_type": "markdown",
   "metadata": {
    "id": "-08Wv2u6yK1a"
   },
   "source": [
    "### Spatial Join\n",
    "Spatially joining points and polygons is easy. We're using the `intersects` geometric predicate here, simply meaning that if a point intersects a polygon, those two become joined or associated. \n",
    "\n",
    "This means that we are able to see which polygon from our geographies each destination is in, and from the travel matrix, we'll know how far it is (roughly) from the other georaphies."
   ]
  },
  {
   "cell_type": "code",
   "execution_count": 8,
   "metadata": {
    "colab": {
     "base_uri": "https://localhost:8080/",
     "height": 479
    },
    "id": "LKCkTAXEDCK3",
    "outputId": "747f9adc-22da-4eb9-abfa-9e43ef400314"
   },
   "outputs": [
    {
     "name": "stderr",
     "output_type": "stream",
     "text": [
      "/Users/susan/opt/miniconda3/lib/python3.9/site-packages/IPython/core/interactiveshell.py:3364: FutureWarning: The `op` parameter is deprecated and will be removed in a future release. Please use the `predicate` parameter instead.\n",
      "  if (await self.run_code(code, result,  async_=asy)):\n"
     ]
    },
    {
     "data": {
      "text/html": [
       "<div>\n",
       "<style scoped>\n",
       "    .dataframe tbody tr th:only-of-type {\n",
       "        vertical-align: middle;\n",
       "    }\n",
       "\n",
       "    .dataframe tbody tr th {\n",
       "        vertical-align: top;\n",
       "    }\n",
       "\n",
       "    .dataframe thead th {\n",
       "        text-align: right;\n",
       "    }\n",
       "</style>\n",
       "<table border=\"1\" class=\"dataframe\">\n",
       "  <thead>\n",
       "    <tr style=\"text-align: right;\">\n",
       "      <th></th>\n",
       "      <th>name1</th>\n",
       "      <th>name2</th>\n",
       "      <th>street1</th>\n",
       "      <th>street2</th>\n",
       "      <th>city</th>\n",
       "      <th>state</th>\n",
       "      <th>zip</th>\n",
       "      <th>category</th>\n",
       "      <th>countyName</th>\n",
       "      <th>source</th>\n",
       "      <th>geometry</th>\n",
       "      <th>index_right</th>\n",
       "      <th>FIPS</th>\n",
       "    </tr>\n",
       "  </thead>\n",
       "  <tbody>\n",
       "    <tr>\n",
       "      <th>1442</th>\n",
       "      <td>Four County Mental Health Center</td>\n",
       "      <td>NaN</td>\n",
       "      <td>1601 West 4th Street</td>\n",
       "      <td>NaN</td>\n",
       "      <td>Coffeyville</td>\n",
       "      <td>KS</td>\n",
       "      <td>67337</td>\n",
       "      <td>naltrexone/vivitrol</td>\n",
       "      <td>Montgomery</td>\n",
       "      <td>SAMHSA</td>\n",
       "      <td>POINT (-95.64145 37.04029)</td>\n",
       "      <td>7392</td>\n",
       "      <td>20125951100</td>\n",
       "    </tr>\n",
       "    <tr>\n",
       "      <th>1443</th>\n",
       "      <td>Four County Mental Health Center</td>\n",
       "      <td>NaN</td>\n",
       "      <td>3751 West Main Street</td>\n",
       "      <td>NaN</td>\n",
       "      <td>Independence</td>\n",
       "      <td>KS</td>\n",
       "      <td>67301</td>\n",
       "      <td>naltrexone/vivitrol</td>\n",
       "      <td>Montgomery</td>\n",
       "      <td>SAMHSA</td>\n",
       "      <td>POINT (-95.75664 37.22566)</td>\n",
       "      <td>52758</td>\n",
       "      <td>20125950500</td>\n",
       "    </tr>\n",
       "    <tr>\n",
       "      <th>1444</th>\n",
       "      <td>Center for Therapeutic Interventions</td>\n",
       "      <td>Bartlesville</td>\n",
       "      <td>4100 SE Adams Road</td>\n",
       "      <td>Suite E-108</td>\n",
       "      <td>Bartlesville</td>\n",
       "      <td>OK</td>\n",
       "      <td>74006</td>\n",
       "      <td>naltrexone/vivitrol</td>\n",
       "      <td>Washington</td>\n",
       "      <td>SAMHSA</td>\n",
       "      <td>POINT (-95.93016 36.74555)</td>\n",
       "      <td>4383</td>\n",
       "      <td>40147000500</td>\n",
       "    </tr>\n",
       "    <tr>\n",
       "      <th>1445</th>\n",
       "      <td>Grand Lake Mental Health Center Inc</td>\n",
       "      <td>NaN</td>\n",
       "      <td>410 West Main Street</td>\n",
       "      <td>NaN</td>\n",
       "      <td>Barnsdall</td>\n",
       "      <td>OK</td>\n",
       "      <td>74002</td>\n",
       "      <td>naltrexone/vivitrol</td>\n",
       "      <td>Osage</td>\n",
       "      <td>SAMHSA</td>\n",
       "      <td>POINT (-96.16186 36.56182)</td>\n",
       "      <td>48726</td>\n",
       "      <td>40113940008</td>\n",
       "    </tr>\n",
       "    <tr>\n",
       "      <th>1446</th>\n",
       "      <td>Comm Health Center of SE KS Pittsburg</td>\n",
       "      <td>Substance Use and Addiction Servs</td>\n",
       "      <td>3011 North Michigan Street</td>\n",
       "      <td>NaN</td>\n",
       "      <td>Pittsburg</td>\n",
       "      <td>KS</td>\n",
       "      <td>66762</td>\n",
       "      <td>naltrexone/vivitrol</td>\n",
       "      <td>Crawford</td>\n",
       "      <td>SAMHSA</td>\n",
       "      <td>POINT (-94.69644 37.43771)</td>\n",
       "      <td>18159</td>\n",
       "      <td>20037957100</td>\n",
       "    </tr>\n",
       "  </tbody>\n",
       "</table>\n",
       "</div>"
      ],
      "text/plain": [
       "                                      name1  \\\n",
       "1442       Four County Mental Health Center   \n",
       "1443       Four County Mental Health Center   \n",
       "1444   Center for Therapeutic Interventions   \n",
       "1445    Grand Lake Mental Health Center Inc   \n",
       "1446  Comm Health Center of SE KS Pittsburg   \n",
       "\n",
       "                                  name2                     street1  \\\n",
       "1442                                NaN        1601 West 4th Street   \n",
       "1443                                NaN       3751 West Main Street   \n",
       "1444                       Bartlesville          4100 SE Adams Road   \n",
       "1445                                NaN        410 West Main Street   \n",
       "1446  Substance Use and Addiction Servs  3011 North Michigan Street   \n",
       "\n",
       "          street2          city state    zip             category  countyName  \\\n",
       "1442          NaN   Coffeyville    KS  67337  naltrexone/vivitrol  Montgomery   \n",
       "1443          NaN  Independence    KS  67301  naltrexone/vivitrol  Montgomery   \n",
       "1444  Suite E-108  Bartlesville    OK  74006  naltrexone/vivitrol  Washington   \n",
       "1445          NaN     Barnsdall    OK  74002  naltrexone/vivitrol       Osage   \n",
       "1446          NaN     Pittsburg    KS  66762  naltrexone/vivitrol    Crawford   \n",
       "\n",
       "      source                    geometry  index_right         FIPS  \n",
       "1442  SAMHSA  POINT (-95.64145 37.04029)         7392  20125951100  \n",
       "1443  SAMHSA  POINT (-95.75664 37.22566)        52758  20125950500  \n",
       "1444  SAMHSA  POINT (-95.93016 36.74555)         4383  40147000500  \n",
       "1445  SAMHSA  POINT (-96.16186 36.56182)        48726  40113940008  \n",
       "1446  SAMHSA  POINT (-94.69644 37.43771)        18159  20037957100  "
      ]
     },
     "execution_count": 8,
     "metadata": {},
     "output_type": "execute_result"
    }
   ],
   "source": [
    "merged_destinations = gpd.sjoin(DESTINATIONS, GEOGRAPHIES[['FIPS', 'geometry']], how='inner', op='intersects')\n",
    "merged_destinations.head()"
   ]
  },
  {
   "cell_type": "code",
   "execution_count": 9,
   "metadata": {},
   "outputs": [
    {
     "data": {
      "text/plain": [
       "(9103, 13)"
      ]
     },
     "execution_count": 9,
     "metadata": {},
     "output_type": "execute_result"
    }
   ],
   "source": [
    "# Check dimensions\n",
    "merged_destinations.shape"
   ]
  },
  {
   "cell_type": "markdown",
   "metadata": {
    "id": "-LqGvsAjyuSJ"
   },
   "source": [
    "### Moins Est Plus\n",
    "Less is more, let's just snag the columns we need. We'll need to join this data again to the travel matrix, so the second line gets everyone speaking the same language."
   ]
  },
  {
   "cell_type": "code",
   "execution_count": 10,
   "metadata": {
    "colab": {
     "base_uri": "https://localhost:8080/",
     "height": 206
    },
    "id": "BGk4z-r5xkyY",
    "outputId": "600a7e81-af17-4ca0-ef4f-8dede0e0c86e"
   },
   "outputs": [
    {
     "data": {
      "text/html": [
       "<div>\n",
       "<style scoped>\n",
       "    .dataframe tbody tr th:only-of-type {\n",
       "        vertical-align: middle;\n",
       "    }\n",
       "\n",
       "    .dataframe tbody tr th {\n",
       "        vertical-align: top;\n",
       "    }\n",
       "\n",
       "    .dataframe thead th {\n",
       "        text-align: right;\n",
       "    }\n",
       "</style>\n",
       "<table border=\"1\" class=\"dataframe\">\n",
       "  <thead>\n",
       "    <tr style=\"text-align: right;\">\n",
       "      <th></th>\n",
       "      <th>index_right</th>\n",
       "      <th>FIPS</th>\n",
       "    </tr>\n",
       "  </thead>\n",
       "  <tbody>\n",
       "    <tr>\n",
       "      <th>1442</th>\n",
       "      <td>7392</td>\n",
       "      <td>20125951100</td>\n",
       "    </tr>\n",
       "    <tr>\n",
       "      <th>1443</th>\n",
       "      <td>52758</td>\n",
       "      <td>20125950500</td>\n",
       "    </tr>\n",
       "    <tr>\n",
       "      <th>1444</th>\n",
       "      <td>4383</td>\n",
       "      <td>40147000500</td>\n",
       "    </tr>\n",
       "    <tr>\n",
       "      <th>1445</th>\n",
       "      <td>48726</td>\n",
       "      <td>40113940008</td>\n",
       "    </tr>\n",
       "    <tr>\n",
       "      <th>1446</th>\n",
       "      <td>18159</td>\n",
       "      <td>20037957100</td>\n",
       "    </tr>\n",
       "  </tbody>\n",
       "</table>\n",
       "</div>"
      ],
      "text/plain": [
       "      index_right         FIPS\n",
       "1442         7392  20125951100\n",
       "1443        52758  20125950500\n",
       "1444         4383  40147000500\n",
       "1445        48726  40113940008\n",
       "1446        18159  20037957100"
      ]
     },
     "execution_count": 10,
     "metadata": {},
     "output_type": "execute_result"
    }
   ],
   "source": [
    "## Pull out the simplified columns we need for the analysis\n",
    "destinations_simplified = merged_destinations[['index_right','FIPS']]\n",
    "#destinations_simplified.loc['FIPS'] = destinations_simplified['FIPS'].astype('int64') \n",
    "destinations_simplified.head()"
   ]
  },
  {
   "cell_type": "markdown",
   "metadata": {
    "id": "sooUzbDiy8O1"
   },
   "source": [
    "### The Big Join\n",
    "Currently, we have destinations associated with our origin geographies (if you're using the default data, census tracts and health clinics), but we need to bring it all together by joining the origins and destinations to the travel matrix. Below, we'll join the travel matrix to the destinations:"
   ]
  },
  {
   "cell_type": "code",
   "execution_count": 11,
   "metadata": {
    "colab": {
     "base_uri": "https://localhost:8080/",
     "height": 206
    },
    "id": "QIlfHs0ryNXP",
    "outputId": "98661779-e531-46d1-c81a-0aecaaa6e5f6"
   },
   "outputs": [
    {
     "data": {
      "text/html": [
       "<div>\n",
       "<style scoped>\n",
       "    .dataframe tbody tr th:only-of-type {\n",
       "        vertical-align: middle;\n",
       "    }\n",
       "\n",
       "    .dataframe tbody tr th {\n",
       "        vertical-align: top;\n",
       "    }\n",
       "\n",
       "    .dataframe thead th {\n",
       "        text-align: right;\n",
       "    }\n",
       "</style>\n",
       "<table border=\"1\" class=\"dataframe\">\n",
       "  <thead>\n",
       "    <tr style=\"text-align: right;\">\n",
       "      <th></th>\n",
       "      <th>origin</th>\n",
       "      <th>destination</th>\n",
       "      <th>minutes</th>\n",
       "      <th>index_right</th>\n",
       "      <th>FIPS</th>\n",
       "    </tr>\n",
       "  </thead>\n",
       "  <tbody>\n",
       "    <tr>\n",
       "      <th>0</th>\n",
       "      <td>1005950300</td>\n",
       "      <td>1045020500</td>\n",
       "      <td>173.72</td>\n",
       "      <td>26298</td>\n",
       "      <td>1045020500</td>\n",
       "    </tr>\n",
       "    <tr>\n",
       "      <th>1</th>\n",
       "      <td>1005950400</td>\n",
       "      <td>1045020500</td>\n",
       "      <td>140.64</td>\n",
       "      <td>26298</td>\n",
       "      <td>1045020500</td>\n",
       "    </tr>\n",
       "    <tr>\n",
       "      <th>2</th>\n",
       "      <td>1069040301</td>\n",
       "      <td>1045020500</td>\n",
       "      <td>134.64</td>\n",
       "      <td>26298</td>\n",
       "      <td>1045020500</td>\n",
       "    </tr>\n",
       "    <tr>\n",
       "      <th>3</th>\n",
       "      <td>1069040302</td>\n",
       "      <td>1045020500</td>\n",
       "      <td>119.78</td>\n",
       "      <td>26298</td>\n",
       "      <td>1045020500</td>\n",
       "    </tr>\n",
       "    <tr>\n",
       "      <th>4</th>\n",
       "      <td>1069041100</td>\n",
       "      <td>1045020500</td>\n",
       "      <td>160.86</td>\n",
       "      <td>26298</td>\n",
       "      <td>1045020500</td>\n",
       "    </tr>\n",
       "  </tbody>\n",
       "</table>\n",
       "</div>"
      ],
      "text/plain": [
       "       origin  destination  minutes  index_right        FIPS\n",
       "0  1005950300   1045020500   173.72        26298  1045020500\n",
       "1  1005950400   1045020500   140.64        26298  1045020500\n",
       "2  1069040301   1045020500   134.64        26298  1045020500\n",
       "3  1069040302   1045020500   119.78        26298  1045020500\n",
       "4  1069041100   1045020500   160.86        26298  1045020500"
      ]
     },
     "execution_count": 11,
     "metadata": {},
     "output_type": "execute_result"
    }
   ],
   "source": [
    "## Merge onto the transit matrix, giving us the distance from each origin to each destination\n",
    "merge_transit_matrix = TRANSIT_MATRIX.merge(destinations_simplified, left_on=\"destination\", right_on=\"FIPS\")\n",
    "merge_transit_matrix.head()"
   ]
  },
  {
   "cell_type": "markdown",
   "metadata": {
    "id": "_u3f_uIGzp_p"
   },
   "source": [
    "### Analysis Time\n",
    "Let's get down to business. To begin, let's declare some variables that will help us a bit later. To start, we can define what our origin column (by default, creatively, `origin`), the destination ID column that came from the destinations data, the travel cost column, and the treshold for travel time. "
   ]
  },
  {
   "cell_type": "code",
   "execution_count": 12,
   "metadata": {
    "id": "rF5rgI2YyW4r"
   },
   "outputs": [],
   "source": [
    "origin_col = 'origin'\n",
    "destination_id_col = 'index_right'\n",
    "travel_cost_col = 'minutes'\n",
    "travel_threshold = 60\n",
    "travel_threshold2 = 30"
   ]
  },
  {
   "cell_type": "markdown",
   "metadata": {
    "id": "Ddc2PXEK0Cf8"
   },
   "source": [
    "### Data Cleanup\n",
    "We have some weird -1000 values. Let's fix them and replace them with 999, the default null value of this travel matrix."
   ]
  },
  {
   "cell_type": "code",
   "execution_count": 13,
   "metadata": {
    "colab": {
     "base_uri": "https://localhost:8080/",
     "height": 206
    },
    "id": "Fxk3Oj2qyZWb",
    "outputId": "35162b81-4bd4-4852-b6a9-30895cb9d8b6"
   },
   "outputs": [
    {
     "data": {
      "text/html": [
       "<div>\n",
       "<style scoped>\n",
       "    .dataframe tbody tr th:only-of-type {\n",
       "        vertical-align: middle;\n",
       "    }\n",
       "\n",
       "    .dataframe tbody tr th {\n",
       "        vertical-align: top;\n",
       "    }\n",
       "\n",
       "    .dataframe thead th {\n",
       "        text-align: right;\n",
       "    }\n",
       "</style>\n",
       "<table border=\"1\" class=\"dataframe\">\n",
       "  <thead>\n",
       "    <tr style=\"text-align: right;\">\n",
       "      <th></th>\n",
       "      <th>origin</th>\n",
       "      <th>destination</th>\n",
       "      <th>minutes</th>\n",
       "      <th>index_right</th>\n",
       "      <th>FIPS</th>\n",
       "    </tr>\n",
       "  </thead>\n",
       "  <tbody>\n",
       "    <tr>\n",
       "      <th>696162</th>\n",
       "      <td>6037980031</td>\n",
       "      <td>6059062604</td>\n",
       "      <td>999.0</td>\n",
       "      <td>22401</td>\n",
       "      <td>6059062604</td>\n",
       "    </tr>\n",
       "    <tr>\n",
       "      <th>4100966</th>\n",
       "      <td>34029738002</td>\n",
       "      <td>34001002400</td>\n",
       "      <td>999.0</td>\n",
       "      <td>12912</td>\n",
       "      <td>34001002400</td>\n",
       "    </tr>\n",
       "    <tr>\n",
       "      <th>4100965</th>\n",
       "      <td>34029738002</td>\n",
       "      <td>34001002400</td>\n",
       "      <td>999.0</td>\n",
       "      <td>12912</td>\n",
       "      <td>34001002400</td>\n",
       "    </tr>\n",
       "    <tr>\n",
       "      <th>4100964</th>\n",
       "      <td>34029738002</td>\n",
       "      <td>34001002400</td>\n",
       "      <td>999.0</td>\n",
       "      <td>12912</td>\n",
       "      <td>34001002400</td>\n",
       "    </tr>\n",
       "    <tr>\n",
       "      <th>4100951</th>\n",
       "      <td>34029738001</td>\n",
       "      <td>34001002400</td>\n",
       "      <td>999.0</td>\n",
       "      <td>12912</td>\n",
       "      <td>34001002400</td>\n",
       "    </tr>\n",
       "  </tbody>\n",
       "</table>\n",
       "</div>"
      ],
      "text/plain": [
       "              origin  destination  minutes  index_right         FIPS\n",
       "696162    6037980031   6059062604    999.0        22401   6059062604\n",
       "4100966  34029738002  34001002400    999.0        12912  34001002400\n",
       "4100965  34029738002  34001002400    999.0        12912  34001002400\n",
       "4100964  34029738002  34001002400    999.0        12912  34001002400\n",
       "4100951  34029738001  34001002400    999.0        12912  34001002400"
      ]
     },
     "execution_count": 13,
     "metadata": {},
     "output_type": "execute_result"
    }
   ],
   "source": [
    "## clean up this weird bug\n",
    "## then merge the data\n",
    "travel_costs = merge_transit_matrix.sort_values(travel_cost_col, ascending=True)\n",
    "travel_costs.minutes = travel_costs.minutes.replace(-1000, 999)\n",
    "travel_costs.origin = travel_costs.origin.astype('int64')\n",
    "travel_costs.head()"
   ]
  },
  {
   "cell_type": "markdown",
   "metadata": {
    "id": "EUEPWb6Q0KOn"
   },
   "source": [
    "### Nearest location\n",
    "To get the nearest location, sort the values by lowest cost then filter for  the first appearance of each origin ID. This means we'll get the first time that origin shows up, sorted by the lowest travel cost. \n",
    "\n",
    "We'll use pandas `.duplicated()` function with the not (`~`) operator before it."
   ]
  },
  {
   "cell_type": "code",
   "execution_count": 14,
   "metadata": {
    "colab": {
     "base_uri": "https://localhost:8080/",
     "height": 206
    },
    "id": "4gnsZHMeyad3",
    "outputId": "c1fbb8b1-cf0d-4712-fb4b-cc79fd3120b4"
   },
   "outputs": [
    {
     "data": {
      "text/html": [
       "<div>\n",
       "<style scoped>\n",
       "    .dataframe tbody tr th:only-of-type {\n",
       "        vertical-align: middle;\n",
       "    }\n",
       "\n",
       "    .dataframe tbody tr th {\n",
       "        vertical-align: top;\n",
       "    }\n",
       "\n",
       "    .dataframe thead th {\n",
       "        text-align: right;\n",
       "    }\n",
       "</style>\n",
       "<table border=\"1\" class=\"dataframe\">\n",
       "  <thead>\n",
       "    <tr style=\"text-align: right;\">\n",
       "      <th></th>\n",
       "      <th>origin</th>\n",
       "      <th>minutes</th>\n",
       "    </tr>\n",
       "  </thead>\n",
       "  <tbody>\n",
       "    <tr>\n",
       "      <th>696162</th>\n",
       "      <td>6037980031</td>\n",
       "      <td>999.0</td>\n",
       "    </tr>\n",
       "    <tr>\n",
       "      <th>4100966</th>\n",
       "      <td>34029738002</td>\n",
       "      <td>999.0</td>\n",
       "    </tr>\n",
       "    <tr>\n",
       "      <th>4100951</th>\n",
       "      <td>34029738001</td>\n",
       "      <td>999.0</td>\n",
       "    </tr>\n",
       "    <tr>\n",
       "      <th>4100948</th>\n",
       "      <td>34029739000</td>\n",
       "      <td>999.0</td>\n",
       "    </tr>\n",
       "    <tr>\n",
       "      <th>2644660</th>\n",
       "      <td>17031980000</td>\n",
       "      <td>999.0</td>\n",
       "    </tr>\n",
       "  </tbody>\n",
       "</table>\n",
       "</div>"
      ],
      "text/plain": [
       "              origin  minutes\n",
       "696162    6037980031    999.0\n",
       "4100966  34029738002    999.0\n",
       "4100951  34029738001    999.0\n",
       "4100948  34029739000    999.0\n",
       "2644660  17031980000    999.0"
      ]
     },
     "execution_count": 14,
     "metadata": {},
     "output_type": "execute_result"
    }
   ],
   "source": [
    "time_to_nearest = travel_costs[~travel_costs.origin.duplicated()][[origin_col, travel_cost_col]]\n",
    "time_to_nearest.head()"
   ]
  },
  {
   "cell_type": "markdown",
   "metadata": {
    "id": "n9pegebC0gAa"
   },
   "source": [
    "### Count in Threshold \n",
    "For getting the count of destinations within a given threshold (by default, 30 minutes), we can chain a couple functions here from pandas. \n",
    "\n",
    "First, we'll filter the `travel_costs` dataframe for costs that are less than or equal to the threshold. Then group by the origin column, giving us sets of rows that share the same origin ID, and then count those columns, giving us the number of rows for each origin ID with a travel cost under our treshold.\n",
    "\n",
    "We'll re-label some columns for easy reference."
   ]
  },
  {
   "cell_type": "code",
   "execution_count": 15,
   "metadata": {
    "id": "O2PtYmwWyb7H"
   },
   "outputs": [],
   "source": [
    "## For count, we simple filter for the cost under a given threshold (60 minutes)\n",
    "## Then group by by and count the results\n",
    "count_within_threshold60 = travel_costs[travel_costs[travel_cost_col] <= travel_threshold] \\\n",
    "  .groupby(origin_col).count() \\\n",
    "  .reset_index()[[origin_col, travel_cost_col]]\n",
    "count_within_threshold60.columns = [origin_col, f\"count within {travel_threshold}\"]"
   ]
  },
  {
   "cell_type": "code",
   "execution_count": 16,
   "metadata": {},
   "outputs": [
    {
     "data": {
      "text/html": [
       "<div>\n",
       "<style scoped>\n",
       "    .dataframe tbody tr th:only-of-type {\n",
       "        vertical-align: middle;\n",
       "    }\n",
       "\n",
       "    .dataframe tbody tr th {\n",
       "        vertical-align: top;\n",
       "    }\n",
       "\n",
       "    .dataframe thead th {\n",
       "        text-align: right;\n",
       "    }\n",
       "</style>\n",
       "<table border=\"1\" class=\"dataframe\">\n",
       "  <thead>\n",
       "    <tr style=\"text-align: right;\">\n",
       "      <th></th>\n",
       "      <th>origin</th>\n",
       "      <th>count within 60</th>\n",
       "    </tr>\n",
       "  </thead>\n",
       "  <tbody>\n",
       "    <tr>\n",
       "      <th>0</th>\n",
       "      <td>1009050601</td>\n",
       "      <td>2</td>\n",
       "    </tr>\n",
       "    <tr>\n",
       "      <th>1</th>\n",
       "      <td>1015000200</td>\n",
       "      <td>1</td>\n",
       "    </tr>\n",
       "    <tr>\n",
       "      <th>2</th>\n",
       "      <td>1015000300</td>\n",
       "      <td>1</td>\n",
       "    </tr>\n",
       "    <tr>\n",
       "      <th>3</th>\n",
       "      <td>1015000500</td>\n",
       "      <td>1</td>\n",
       "    </tr>\n",
       "    <tr>\n",
       "      <th>4</th>\n",
       "      <td>1015000800</td>\n",
       "      <td>1</td>\n",
       "    </tr>\n",
       "  </tbody>\n",
       "</table>\n",
       "</div>"
      ],
      "text/plain": [
       "       origin  count within 60\n",
       "0  1009050601                2\n",
       "1  1015000200                1\n",
       "2  1015000300                1\n",
       "3  1015000500                1\n",
       "4  1015000800                1"
      ]
     },
     "execution_count": 16,
     "metadata": {},
     "output_type": "execute_result"
    }
   ],
   "source": [
    "count_within_threshold60.head()"
   ]
  },
  {
   "cell_type": "code",
   "execution_count": 17,
   "metadata": {},
   "outputs": [],
   "source": [
    "## For count, we simple filter for the cost under a given threshold (30 minutes)\n",
    "## Then group by by and count the results\n",
    "count_within_threshold30 = travel_costs[travel_costs[travel_cost_col] <= travel_threshold2] \\\n",
    "  .groupby(origin_col).count() \\\n",
    "  .reset_index()[[origin_col, travel_cost_col]]\n",
    "\n",
    "count_within_threshold30.columns = [origin_col, f\"count within {travel_threshold2}\"]"
   ]
  },
  {
   "cell_type": "code",
   "execution_count": 18,
   "metadata": {},
   "outputs": [
    {
     "data": {
      "text/html": [
       "<div>\n",
       "<style scoped>\n",
       "    .dataframe tbody tr th:only-of-type {\n",
       "        vertical-align: middle;\n",
       "    }\n",
       "\n",
       "    .dataframe tbody tr th {\n",
       "        vertical-align: top;\n",
       "    }\n",
       "\n",
       "    .dataframe thead th {\n",
       "        text-align: right;\n",
       "    }\n",
       "</style>\n",
       "<table border=\"1\" class=\"dataframe\">\n",
       "  <thead>\n",
       "    <tr style=\"text-align: right;\">\n",
       "      <th></th>\n",
       "      <th>origin</th>\n",
       "      <th>count within 30</th>\n",
       "    </tr>\n",
       "  </thead>\n",
       "  <tbody>\n",
       "    <tr>\n",
       "      <th>0</th>\n",
       "      <td>1015001100</td>\n",
       "      <td>1</td>\n",
       "    </tr>\n",
       "    <tr>\n",
       "      <th>1</th>\n",
       "      <td>1015001201</td>\n",
       "      <td>1</td>\n",
       "    </tr>\n",
       "    <tr>\n",
       "      <th>2</th>\n",
       "      <td>1021060200</td>\n",
       "      <td>1</td>\n",
       "    </tr>\n",
       "    <tr>\n",
       "      <th>3</th>\n",
       "      <td>1033020100</td>\n",
       "      <td>1</td>\n",
       "    </tr>\n",
       "    <tr>\n",
       "      <th>4</th>\n",
       "      <td>1033020200</td>\n",
       "      <td>1</td>\n",
       "    </tr>\n",
       "  </tbody>\n",
       "</table>\n",
       "</div>"
      ],
      "text/plain": [
       "       origin  count within 30\n",
       "0  1015001100                1\n",
       "1  1015001201                1\n",
       "2  1021060200                1\n",
       "3  1033020100                1\n",
       "4  1033020200                1"
      ]
     },
     "execution_count": 18,
     "metadata": {},
     "output_type": "execute_result"
    }
   ],
   "source": [
    "count_within_threshold30.head()"
   ]
  },
  {
   "cell_type": "code",
   "execution_count": 19,
   "metadata": {},
   "outputs": [
    {
     "data": {
      "text/html": [
       "<div>\n",
       "<style scoped>\n",
       "    .dataframe tbody tr th:only-of-type {\n",
       "        vertical-align: middle;\n",
       "    }\n",
       "\n",
       "    .dataframe tbody tr th {\n",
       "        vertical-align: top;\n",
       "    }\n",
       "\n",
       "    .dataframe thead th {\n",
       "        text-align: right;\n",
       "    }\n",
       "</style>\n",
       "<table border=\"1\" class=\"dataframe\">\n",
       "  <thead>\n",
       "    <tr style=\"text-align: right;\">\n",
       "      <th></th>\n",
       "      <th>origin</th>\n",
       "      <th>count within 60</th>\n",
       "      <th>count within 30</th>\n",
       "    </tr>\n",
       "  </thead>\n",
       "  <tbody>\n",
       "    <tr>\n",
       "      <th>0</th>\n",
       "      <td>1009050601</td>\n",
       "      <td>2</td>\n",
       "      <td>NaN</td>\n",
       "    </tr>\n",
       "    <tr>\n",
       "      <th>1</th>\n",
       "      <td>1015000200</td>\n",
       "      <td>1</td>\n",
       "      <td>NaN</td>\n",
       "    </tr>\n",
       "    <tr>\n",
       "      <th>2</th>\n",
       "      <td>1015000300</td>\n",
       "      <td>1</td>\n",
       "      <td>NaN</td>\n",
       "    </tr>\n",
       "    <tr>\n",
       "      <th>3</th>\n",
       "      <td>1015000500</td>\n",
       "      <td>1</td>\n",
       "      <td>NaN</td>\n",
       "    </tr>\n",
       "    <tr>\n",
       "      <th>4</th>\n",
       "      <td>1015000800</td>\n",
       "      <td>1</td>\n",
       "      <td>NaN</td>\n",
       "    </tr>\n",
       "  </tbody>\n",
       "</table>\n",
       "</div>"
      ],
      "text/plain": [
       "       origin  count within 60  count within 30\n",
       "0  1009050601                2              NaN\n",
       "1  1015000200                1              NaN\n",
       "2  1015000300                1              NaN\n",
       "3  1015000500                1              NaN\n",
       "4  1015000800                1              NaN"
      ]
     },
     "execution_count": 19,
     "metadata": {},
     "output_type": "execute_result"
    }
   ],
   "source": [
    "# Merge threshold 60 and 30 minutes\n",
    "count_within_threshold = count_within_threshold60.merge(count_within_threshold30, on=origin_col, how=\"outer\")\n",
    "count_within_threshold.head()"
   ]
  },
  {
   "cell_type": "markdown",
   "metadata": {
    "id": "c4M3F4eR1OB4"
   },
   "source": [
    "### Merge Results\n",
    "Now, we can merge our two findings into an easy, breezy, beautiful dataframe."
   ]
  },
  {
   "cell_type": "code",
   "execution_count": 20,
   "metadata": {
    "colab": {
     "base_uri": "https://localhost:8080/",
     "height": 206
    },
    "id": "GQ_tnMWSydJn",
    "outputId": "0f95f1dd-dfbc-449f-e867-9bad17f24c06"
   },
   "outputs": [
    {
     "data": {
      "text/html": [
       "<div>\n",
       "<style scoped>\n",
       "    .dataframe tbody tr th:only-of-type {\n",
       "        vertical-align: middle;\n",
       "    }\n",
       "\n",
       "    .dataframe tbody tr th {\n",
       "        vertical-align: top;\n",
       "    }\n",
       "\n",
       "    .dataframe thead th {\n",
       "        text-align: right;\n",
       "    }\n",
       "</style>\n",
       "<table border=\"1\" class=\"dataframe\">\n",
       "  <thead>\n",
       "    <tr style=\"text-align: right;\">\n",
       "      <th></th>\n",
       "      <th>origin</th>\n",
       "      <th>count within 60</th>\n",
       "      <th>count within 30</th>\n",
       "      <th>minutes</th>\n",
       "    </tr>\n",
       "  </thead>\n",
       "  <tbody>\n",
       "    <tr>\n",
       "      <th>0</th>\n",
       "      <td>1009050601</td>\n",
       "      <td>2.0</td>\n",
       "      <td>NaN</td>\n",
       "      <td>40.91</td>\n",
       "    </tr>\n",
       "    <tr>\n",
       "      <th>1</th>\n",
       "      <td>1015000200</td>\n",
       "      <td>1.0</td>\n",
       "      <td>NaN</td>\n",
       "      <td>52.99</td>\n",
       "    </tr>\n",
       "    <tr>\n",
       "      <th>2</th>\n",
       "      <td>1015000300</td>\n",
       "      <td>1.0</td>\n",
       "      <td>NaN</td>\n",
       "      <td>55.96</td>\n",
       "    </tr>\n",
       "    <tr>\n",
       "      <th>3</th>\n",
       "      <td>1015000500</td>\n",
       "      <td>1.0</td>\n",
       "      <td>NaN</td>\n",
       "      <td>53.62</td>\n",
       "    </tr>\n",
       "    <tr>\n",
       "      <th>4</th>\n",
       "      <td>1015000800</td>\n",
       "      <td>1.0</td>\n",
       "      <td>NaN</td>\n",
       "      <td>42.09</td>\n",
       "    </tr>\n",
       "  </tbody>\n",
       "</table>\n",
       "</div>"
      ],
      "text/plain": [
       "       origin  count within 60  count within 30  minutes\n",
       "0  1009050601              2.0              NaN    40.91\n",
       "1  1015000200              1.0              NaN    52.99\n",
       "2  1015000300              1.0              NaN    55.96\n",
       "3  1015000500              1.0              NaN    53.62\n",
       "4  1015000800              1.0              NaN    42.09"
      ]
     },
     "execution_count": 20,
     "metadata": {},
     "output_type": "execute_result"
    }
   ],
   "source": [
    "merged_metrics = count_within_threshold.merge(time_to_nearest, on=origin_col, how=\"outer\")\n",
    "merged_metrics.head()"
   ]
  },
  {
   "cell_type": "markdown",
   "metadata": {
    "id": "JGBFqrHz1VJ0"
   },
   "source": [
    "### Cleanup\n",
    "One last edge case to handle here: It is possible some origins are not within 30 minutes of a destination, meaning some of the data will be null. Or, we might have lost some origins from the full geographies dataset.\n",
    "\n",
    "While not the end of the world, we can clean this up here before shipping of results to our (soon to be disgruntled) data scientist colleagues. \n",
    "\n",
    "The below finds the missing origin IDs and fills them in, giving us the revered `findings` dataframe. \n",
    "\n",
    "🎉🎉🎉🎉🎉🎉🎉🎉🎉🎉🎉🎉🎉"
   ]
  },
  {
   "cell_type": "code",
   "execution_count": 21,
   "metadata": {
    "colab": {
     "base_uri": "https://localhost:8080/",
     "height": 206
    },
    "id": "juWqVe3CyeKT",
    "outputId": "9eae19e1-c9ac-402d-8686-54f12b413764"
   },
   "outputs": [
    {
     "data": {
      "text/html": [
       "<div>\n",
       "<style scoped>\n",
       "    .dataframe tbody tr th:only-of-type {\n",
       "        vertical-align: middle;\n",
       "    }\n",
       "\n",
       "    .dataframe tbody tr th {\n",
       "        vertical-align: top;\n",
       "    }\n",
       "\n",
       "    .dataframe thead th {\n",
       "        text-align: right;\n",
       "    }\n",
       "</style>\n",
       "<table border=\"1\" class=\"dataframe\">\n",
       "  <thead>\n",
       "    <tr style=\"text-align: right;\">\n",
       "      <th></th>\n",
       "      <th>origin</th>\n",
       "      <th>count within 60</th>\n",
       "      <th>count within 30</th>\n",
       "      <th>minutes</th>\n",
       "    </tr>\n",
       "  </thead>\n",
       "  <tbody>\n",
       "    <tr>\n",
       "      <th>0</th>\n",
       "      <td>1009050601</td>\n",
       "      <td>2</td>\n",
       "      <td>0</td>\n",
       "      <td>40.91</td>\n",
       "    </tr>\n",
       "    <tr>\n",
       "      <th>1</th>\n",
       "      <td>1015000200</td>\n",
       "      <td>1</td>\n",
       "      <td>0</td>\n",
       "      <td>52.99</td>\n",
       "    </tr>\n",
       "    <tr>\n",
       "      <th>2</th>\n",
       "      <td>1015000300</td>\n",
       "      <td>1</td>\n",
       "      <td>0</td>\n",
       "      <td>55.96</td>\n",
       "    </tr>\n",
       "    <tr>\n",
       "      <th>3</th>\n",
       "      <td>1015000500</td>\n",
       "      <td>1</td>\n",
       "      <td>0</td>\n",
       "      <td>53.62</td>\n",
       "    </tr>\n",
       "    <tr>\n",
       "      <th>4</th>\n",
       "      <td>1015000800</td>\n",
       "      <td>1</td>\n",
       "      <td>0</td>\n",
       "      <td>42.09</td>\n",
       "    </tr>\n",
       "  </tbody>\n",
       "</table>\n",
       "</div>"
      ],
      "text/plain": [
       "       origin  count within 60  count within 30  minutes\n",
       "0  1009050601                2                0    40.91\n",
       "1  1015000200                1                0    52.99\n",
       "2  1015000300                1                0    55.96\n",
       "3  1015000500                1                0    53.62\n",
       "4  1015000800                1                0    42.09"
      ]
     },
     "execution_count": 21,
     "metadata": {},
     "output_type": "execute_result"
    }
   ],
   "source": [
    "## To clean up any missing data, we can check back with our origin list\n",
    "analyzed_origins = list(merged_metrics[origin_col])\n",
    "missing_origins = [o for o in GEOGRAPHIES.FIPS if o not in analyzed_origins]\n",
    "\n",
    "## Then, fill the missing data\n",
    "missing_data = []\n",
    "for o in missing_origins:\n",
    "    missing_entry = {}\n",
    "    missing_entry[origin_col] = o\n",
    "    missing_entry[f\"count within {travel_threshold}\"]=0\n",
    "    missing_entry[f\"count within {travel_threshold2}\"]=0\n",
    "    missing_entry[travel_cost_col]=None\n",
    "    missing_data.append(missing_entry)\n",
    "missing_df = pd.DataFrame(missing_data)\n",
    "\n",
    "## and concatenate results\n",
    "findings = pd.concat([merged_metrics, missing_df])\n",
    "# Fill any null values with 0 for count within\n",
    "findings['count within 30'] = findings['count within 30'].fillna(0).astype(int)\n",
    "findings['count within 60'] = findings['count within 60'].fillna(0).astype(int)\n",
    "# Replace error value \"999\" in matrices with blanks\n",
    "findings['minutes'] = findings['minutes'].replace(999.0, None)\n",
    "findings.head()"
   ]
  },
  {
   "cell_type": "markdown",
   "metadata": {
    "id": "6_iVT0KB1-b6"
   },
   "source": [
    "### What's Next?\n",
    "Well, now you could take this data and export it as a CSV, or join it back to the geographies and visualize it, or try running this analysis with some different data. Ball is in your court, you got this!\n"
   ]
  },
  {
   "cell_type": "code",
   "execution_count": 22,
   "metadata": {},
   "outputs": [
    {
     "data": {
      "text/plain": [
       "(74089, 4)"
      ]
     },
     "execution_count": 22,
     "metadata": {},
     "output_type": "execute_result"
    }
   ],
   "source": [
    "# Check dimensions for all tracts; should be ~74,000\n",
    "findings.shape"
   ]
  },
  {
   "cell_type": "code",
   "execution_count": 23,
   "metadata": {
    "id": "lCfyQf1W6NIJ"
   },
   "outputs": [],
   "source": [
    "# Export to csv\n",
    "findings.to_csv('nal_tract_bikeAccess.csv', index = False)"
   ]
  }
 ],
 "metadata": {
  "colab": {
   "collapsed_sections": [],
   "name": "Access Notebook",
   "provenance": []
  },
  "kernelspec": {
   "display_name": "Python 3 (ipykernel)",
   "language": "python",
   "name": "python3"
  },
  "language_info": {
   "codemirror_mode": {
    "name": "ipython",
    "version": 3
   },
   "file_extension": ".py",
   "mimetype": "text/x-python",
   "name": "python",
   "nbconvert_exporter": "python",
   "pygments_lexer": "ipython3",
   "version": "3.9.5"
  }
 },
 "nbformat": 4,
 "nbformat_minor": 1
}
